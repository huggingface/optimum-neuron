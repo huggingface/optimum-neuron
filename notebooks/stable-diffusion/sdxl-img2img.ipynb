{
 "cells": [
  {
   "cell_type": "markdown",
   "id": "7045dff5-e4dc-4706-9ac7-819f72166a40",
   "metadata": {},
   "source": [
    "# 🎨 Stable Diffusion XL on Inferentia 2 - 2nd part: Image to Image"
   ]
  },
  {
   "cell_type": "code",
   "execution_count": null,
   "id": "fabb3c49-7b2c-4cfb-b690-4443dde19f6a",
   "metadata": {},
   "outputs": [],
   "source": []
  }
 ],
 "metadata": {
  "kernelspec": {
   "display_name": "Python (torch-neuronx)",
   "language": "python",
   "name": "aws_neuron_venv_pytorch"
  },
  "language_info": {
   "codemirror_mode": {
    "name": "ipython",
    "version": 3
   },
   "file_extension": ".py",
   "mimetype": "text/x-python",
   "name": "python",
   "nbconvert_exporter": "python",
   "pygments_lexer": "ipython3",
   "version": "3.8.10"
  }
 },
 "nbformat": 4,
 "nbformat_minor": 5
}
