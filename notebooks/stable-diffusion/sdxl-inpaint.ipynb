{
 "cells": [
  {
   "cell_type": "markdown",
   "id": "4812a575-0aaf-4ebf-b01e-362fbd5021d8",
   "metadata": {},
   "source": [
    "# 🎨 Stable Diffusion XL on Inferentia 2 - 3rd part: Inpaint"
   ]
  },
  {
   "cell_type": "code",
   "execution_count": null,
   "id": "1e55fa46-6266-4ae8-a38a-3b588fba89b9",
   "metadata": {},
   "outputs": [],
   "source": []
  }
 ],
 "metadata": {
  "kernelspec": {
   "display_name": "Python (torch-neuronx)",
   "language": "python",
   "name": "aws_neuron_venv_pytorch"
  },
  "language_info": {
   "codemirror_mode": {
    "name": "ipython",
    "version": 3
   },
   "file_extension": ".py",
   "mimetype": "text/x-python",
   "name": "python",
   "nbconvert_exporter": "python",
   "pygments_lexer": "ipython3",
   "version": "3.8.10"
  }
 },
 "nbformat": 4,
 "nbformat_minor": 5
}
