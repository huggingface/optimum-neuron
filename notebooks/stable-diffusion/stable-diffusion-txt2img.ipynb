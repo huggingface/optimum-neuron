{
 "cells": [
  {
   "cell_type": "markdown",
   "id": "f64a3b31-e60d-48a5-b01d-c08f3cc99ff3",
   "metadata": {},
   "source": [
    "# 🎨 Stable Diffusion on Inferentia 2 - 1st part: Text to Image"
   ]
  },
  {
   "cell_type": "markdown",
   "id": "94c0a261-767d-4549-a7cb-a2a69f3c3c3d",
   "metadata": {},
   "source": [
    "## "
   ]
  },
  {
   "cell_type": "code",
   "execution_count": null,
   "id": "b306e6c8-36f8-4df5-8899-45ac6c59a505",
   "metadata": {},
   "outputs": [],
   "source": []
  },
  {
   "cell_type": "code",
   "execution_count": null,
   "id": "e1f1012b-77e1-4bea-8705-c01c79acb4d5",
   "metadata": {},
   "outputs": [],
   "source": []
  }
 ],
 "metadata": {
  "kernelspec": {
   "display_name": "Python (torch-neuronx)",
   "language": "python",
   "name": "aws_neuron_venv_pytorch"
  },
  "language_info": {
   "codemirror_mode": {
    "name": "ipython",
    "version": 3
   },
   "file_extension": ".py",
   "mimetype": "text/x-python",
   "name": "python",
   "nbconvert_exporter": "python",
   "pygments_lexer": "ipython3",
   "version": "3.8.10"
  }
 },
 "nbformat": 4,
 "nbformat_minor": 5
}
