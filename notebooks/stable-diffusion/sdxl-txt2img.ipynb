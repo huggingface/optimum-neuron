{
 "cells": [
  {
   "cell_type": "markdown",
   "id": "5fbad599-1305-421c-b7cc-4d2fcfadec19",
   "metadata": {},
   "source": [
    "# 🎨 Stable Diffusion XL on Inferentia 2 - 1st part: Text to Image"
   ]
  },
  {
   "cell_type": "code",
   "execution_count": null,
   "id": "238f2ba3-efdb-40c8-a174-9384bbda7d57",
   "metadata": {},
   "outputs": [],
   "source": []
  }
 ],
 "metadata": {
  "kernelspec": {
   "display_name": "Python (torch-neuronx)",
   "language": "python",
   "name": "aws_neuron_venv_pytorch"
  },
  "language_info": {
   "codemirror_mode": {
    "name": "ipython",
    "version": 3
   },
   "file_extension": ".py",
   "mimetype": "text/x-python",
   "name": "python",
   "nbconvert_exporter": "python",
   "pygments_lexer": "ipython3",
   "version": "3.8.10"
  }
 },
 "nbformat": 4,
 "nbformat_minor": 5
}
