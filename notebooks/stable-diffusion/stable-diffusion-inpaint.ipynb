{
 "cells": [
  {
   "cell_type": "markdown",
   "id": "49f632a7-4ae6-4888-84a0-654463d385c7",
   "metadata": {},
   "source": [
    "# 🎨 Stable Diffusion on Inferentia 2 - 3rd part: Inpaint"
   ]
  },
  {
   "cell_type": "code",
   "execution_count": null,
   "id": "dd733533-afdf-4763-9c0e-e1f0c65545bb",
   "metadata": {},
   "outputs": [],
   "source": []
  }
 ],
 "metadata": {
  "kernelspec": {
   "display_name": "Python (torch-neuronx)",
   "language": "python",
   "name": "aws_neuron_venv_pytorch"
  },
  "language_info": {
   "codemirror_mode": {
    "name": "ipython",
    "version": 3
   },
   "file_extension": ".py",
   "mimetype": "text/x-python",
   "name": "python",
   "nbconvert_exporter": "python",
   "pygments_lexer": "ipython3",
   "version": "3.8.10"
  }
 },
 "nbformat": 4,
 "nbformat_minor": 5
}
