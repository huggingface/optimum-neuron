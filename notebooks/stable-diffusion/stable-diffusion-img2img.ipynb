{
 "cells": [
  {
   "cell_type": "markdown",
   "id": "9b14855c-1444-44b8-b696-5666a5e20fad",
   "metadata": {},
   "source": [
    "# 🎨 Stable Diffusion on Inferentia 2 - 2nd part: Image to Image"
   ]
  },
  {
   "cell_type": "code",
   "execution_count": null,
   "id": "71835934-eb78-48e0-a933-e9c415d02789",
   "metadata": {},
   "outputs": [],
   "source": []
  }
 ],
 "metadata": {
  "kernelspec": {
   "display_name": "Python (torch-neuronx)",
   "language": "python",
   "name": "aws_neuron_venv_pytorch"
  },
  "language_info": {
   "codemirror_mode": {
    "name": "ipython",
    "version": 3
   },
   "file_extension": ".py",
   "mimetype": "text/x-python",
   "name": "python",
   "nbconvert_exporter": "python",
   "pygments_lexer": "ipython3",
   "version": "3.8.10"
  }
 },
 "nbformat": 4,
 "nbformat_minor": 5
}
